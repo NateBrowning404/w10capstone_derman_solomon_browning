{
 "cells": [
  {
   "cell_type": "markdown",
   "id": "3438b173",
   "metadata": {},
   "source": [
    "# Yellow Sea Microplastic Data"
   ]
  },
  {
   "cell_type": "markdown",
   "id": "5ccb3cf4",
   "metadata": {},
   "source": [
    "Research Paper with Data: https://www.sciencedirect.com/science/article/pii/S2352340919303427?via%3Dihub#sec2\n"
   ]
  },
  {
   "cell_type": "markdown",
   "id": "a6aa2a79",
   "metadata": {},
   "source": [
    "data was collected June 15–30, 2016"
   ]
  },
  {
   "cell_type": "markdown",
   "id": "a4a1d5a0",
   "metadata": {},
   "source": [
    "### Import Required Libraries"
   ]
  },
  {
   "cell_type": "code",
   "execution_count": 1,
   "id": "93cbb037",
   "metadata": {},
   "outputs": [],
   "source": [
    "import os\n",
    "import json\n",
    "import requests\n",
    "from pprint import pprint\n",
    "from datetime import date, timedelta, datetime\n",
    "from io import BytesIO\n",
    "from collections import Counter, OrderedDict\n",
    "\n",
    "import numpy as np\n",
    "import pandas as pd\n",
    "import xarray as xr\n",
    "\n",
    "import matplotlib.pyplot as plt\n",
    "\n",
    "from sklearn.decomposition import PCA\n",
    "from sklearn.preprocessing import OrdinalEncoder, StandardScaler\n",
    "from sklearn.model_selection import train_test_split, GridSearchCV\n",
    "from sklearn.ensemble import GradientBoostingRegressor\n",
    "from sklearn.metrics import mean_squared_error\n",
    "from sklearn.impute import SimpleImputer\n",
    "\n",
    "import xgboost as xgb\n",
    "\n",
    "import earthaccess"
   ]
  },
  {
   "cell_type": "markdown",
   "id": "b2af7f13",
   "metadata": {},
   "source": [
    "### Load in downloaded data"
   ]
  },
  {
   "cell_type": "code",
   "execution_count": 2,
   "id": "ba868eaf",
   "metadata": {},
   "outputs": [
    {
     "name": "stdout",
     "output_type": "stream",
     "text": [
      "        length_cm    weight_g  mp_length_um\n",
      "count  546.000000  546.000000    546.000000\n",
      "mean    10.401154   10.565143    940.845948\n",
      "std      3.672895    9.983822   1012.471797\n",
      "min      5.640000    1.046000     15.942263\n",
      "25%      8.020000    3.834500    224.089271\n",
      "50%      9.550000    8.677500    502.413360\n",
      "75%     11.830000   13.217750   1292.015992\n",
      "max     41.400000   86.647000   4739.634818 \n",
      "\n",
      "<class 'pandas.core.frame.DataFrame'>\n",
      "RangeIndex: 546 entries, 0 to 545\n",
      "Data columns (total 6 columns):\n",
      " #   Column        Non-Null Count  Dtype  \n",
      "---  ------        --------------  -----  \n",
      " 0   station       546 non-null    object \n",
      " 1   latin         546 non-null    object \n",
      " 2   length_cm     546 non-null    float64\n",
      " 3   weight_g      546 non-null    float64\n",
      " 4   shape         546 non-null    object \n",
      " 5   mp_length_um  546 non-null    float64\n",
      "dtypes: float64(3), object(3)\n",
      "memory usage: 25.7+ KB\n",
      "None\n"
     ]
    }
   ],
   "source": [
    "# load the microplastic count per fish data\n",
    "data_path = \"/Users/ds/mids/datasci210/data/ScienceDirect_files_17Oct2024_08-09-12.097/1-s2.0-S2352340919303427-mmc2.xlsx\"\n",
    "df1 = pd.read_excel(data_path, header=1, usecols='C:H', names=['station','latin','length_cm','weight_g', 'shape','mp_length_um'])\n",
    "print(df1.describe(),'\\n')\n",
    "print(df1.info())"
   ]
  },
  {
   "cell_type": "code",
   "execution_count": 3,
   "id": "d7bdf5b7",
   "metadata": {},
   "outputs": [
    {
     "name": "stdout",
     "output_type": "stream",
     "text": [
      "             lat         lon  avg_mp_per_fish\n",
      "count  53.000000   53.000000        53.000000\n",
      "mean   34.429239  123.028607         0.448491\n",
      "std     2.227657    1.030078         0.221154\n",
      "min    31.481217  120.710233         0.130000\n",
      "25%    32.517917  122.230900         0.300000\n",
      "50%    34.009000  123.024250         0.400000\n",
      "75%    35.993700  123.942450         0.500000\n",
      "max    38.820983  124.818383         1.400000 \n",
      "\n",
      "<class 'pandas.core.frame.DataFrame'>\n",
      "RangeIndex: 53 entries, 0 to 52\n",
      "Data columns (total 4 columns):\n",
      " #   Column           Non-Null Count  Dtype  \n",
      "---  ------           --------------  -----  \n",
      " 0   station          53 non-null     object \n",
      " 1   lat              53 non-null     float64\n",
      " 2   lon              53 non-null     float64\n",
      " 3   avg_mp_per_fish  53 non-null     float64\n",
      "dtypes: float64(3), object(1)\n",
      "memory usage: 1.8+ KB\n",
      "None\n"
     ]
    }
   ],
   "source": [
    "# load lat lon data for each station\n",
    "data_path = \"/Users/ds/mids/datasci210/data/ScienceDirect_files_17Oct2024_08-09-12.097/1-s2.0-S2352340919303427-mmc3.xlsx\"\n",
    "df2 = pd.read_excel(data_path, sheet_name='Figure 2',names=['station','lat','lon','avg_mp_per_fish'])\n",
    "print(df2.describe(),'\\n')\n",
    "print(df2.info())"
   ]
  },
  {
   "cell_type": "code",
   "execution_count": 4,
   "id": "b9e99573",
   "metadata": {},
   "outputs": [
    {
     "name": "stdout",
     "output_type": "stream",
     "text": [
      "        length_cm    weight_g  mp_length_um         lat         lon\n",
      "count  546.000000  546.000000    546.000000  546.000000  546.000000\n",
      "mean    10.401154   10.565143    940.845948   34.528023  123.018390\n",
      "std      3.672895    9.983822   1012.471797    2.205539    1.058447\n",
      "min      5.640000    1.046000     15.942263   31.481217  120.710233\n",
      "25%      8.020000    3.834500    224.089271   32.660275  122.230900\n",
      "50%      9.550000    8.677500    502.413360   34.005467  123.032025\n",
      "75%     11.830000   13.217750   1292.015992   36.022787  123.942450\n",
      "max     41.400000   86.647000   4739.634818   38.820983  124.818383 \n",
      "\n",
      "<class 'pandas.core.frame.DataFrame'>\n",
      "RangeIndex: 546 entries, 0 to 545\n",
      "Data columns (total 8 columns):\n",
      " #   Column        Non-Null Count  Dtype  \n",
      "---  ------        --------------  -----  \n",
      " 0   station       546 non-null    object \n",
      " 1   latin         546 non-null    object \n",
      " 2   length_cm     546 non-null    float64\n",
      " 3   weight_g      546 non-null    float64\n",
      " 4   shape         546 non-null    object \n",
      " 5   mp_length_um  546 non-null    float64\n",
      " 6   lat           546 non-null    float64\n",
      " 7   lon           546 non-null    float64\n",
      "dtypes: float64(5), object(3)\n",
      "memory usage: 34.2+ KB\n",
      "None\n"
     ]
    }
   ],
   "source": [
    "# combine data on the station id for mapping to cygnss\n",
    "df_merged = pd.merge(df1, df2, how='left', on='station')\n",
    "df_merged = df_merged.drop('avg_mp_per_fish',axis=1)\n",
    "print(df_merged.describe(),'\\n')\n",
    "print(df_merged.info())\n",
    "\n",
    "# assign main df for processing\n",
    "df = df_merged"
   ]
  },
  {
   "cell_type": "code",
   "execution_count": 5,
   "id": "3b1b43da",
   "metadata": {},
   "outputs": [
    {
     "name": "stdout",
     "output_type": "stream",
     "text": [
      "                                      latin        lat         lon  mp_counts\n",
      "length_cm weight_g                                                           \n",
      "5.64      2.281             Liparis tanakae  36.506817  122.987883          1\n",
      "5.80      1.956             Liparis tanakae  37.008500  123.531667          2\n",
      "6.04      1.046         Engraulis japonicus  33.511000  122.213033          1\n",
      "6.14      1.905             Liparis tanakae  34.502833  123.796067          1\n",
      "          2.049             Liparis tanakae  38.003533  121.710117          2\n",
      "...                                     ...        ...         ...        ...\n",
      "27.66     7.293     Eupleurogramms muticus   36.472383  122.022783          1\n",
      "33.18     15.143    Eupleurogramms muticus   36.472383  122.022783          1\n",
      "37.68     23.727    Eupleurogramms muticus   32.517917  123.039800          1\n",
      "37.92     23.588    Eupleurogramms muticus   32.517917  123.039800          1\n",
      "41.40     28.895    Eupleurogramms muticus   32.517917  123.039800          1\n",
      "\n",
      "[444 rows x 4 columns]\n"
     ]
    }
   ],
   "source": [
    "# calculate number of microplastics per fish using length and weight pairs as unique ID for a fish\n",
    "# --> paper says that there should be 444 unique fish samples\n",
    "df_grouped = df.groupby(['length_cm','weight_g'])\n",
    "\n",
    "# get the full row each unique fish\n",
    "df_grouped_last = df_grouped.last()\n",
    "\n",
    "# create columnn for the number of microplastics found in each fish\n",
    "df_grouped_last['mp_counts'] = df_grouped['latin'].count()\n",
    "\n",
    "# remove station, shape, mp length columns\n",
    "df_grouped_last = df_grouped_last.drop(['station','shape','mp_length_um'], axis=1)\n",
    "\n",
    "# reassign modified dataframe to initial variable\n",
    "df_grouped = df_grouped_last\n",
    "print(df_grouped)"
   ]
  },
  {
   "cell_type": "code",
   "execution_count": 6,
   "id": "ea374c56",
   "metadata": {},
   "outputs": [
    {
     "data": {
      "text/html": [
       "<div>\n",
       "<style scoped>\n",
       "    .dataframe tbody tr th:only-of-type {\n",
       "        vertical-align: middle;\n",
       "    }\n",
       "\n",
       "    .dataframe tbody tr th {\n",
       "        vertical-align: top;\n",
       "    }\n",
       "\n",
       "    .dataframe thead th {\n",
       "        text-align: right;\n",
       "    }\n",
       "</style>\n",
       "<table border=\"1\" class=\"dataframe\">\n",
       "  <thead>\n",
       "    <tr style=\"text-align: right;\">\n",
       "      <th></th>\n",
       "      <th></th>\n",
       "      <th>latin</th>\n",
       "      <th>lat</th>\n",
       "      <th>lon</th>\n",
       "      <th>mp_counts</th>\n",
       "    </tr>\n",
       "    <tr>\n",
       "      <th>length_cm</th>\n",
       "      <th>weight_g</th>\n",
       "      <th></th>\n",
       "      <th></th>\n",
       "      <th></th>\n",
       "      <th></th>\n",
       "    </tr>\n",
       "  </thead>\n",
       "  <tbody>\n",
       "    <tr>\n",
       "      <th>5.64</th>\n",
       "      <th>2.281</th>\n",
       "      <td>Liparis tanakae</td>\n",
       "      <td>36.506817</td>\n",
       "      <td>122.987883</td>\n",
       "      <td>1</td>\n",
       "    </tr>\n",
       "    <tr>\n",
       "      <th>5.80</th>\n",
       "      <th>1.956</th>\n",
       "      <td>Liparis tanakae</td>\n",
       "      <td>37.008500</td>\n",
       "      <td>123.531667</td>\n",
       "      <td>2</td>\n",
       "    </tr>\n",
       "    <tr>\n",
       "      <th>6.04</th>\n",
       "      <th>1.046</th>\n",
       "      <td>Engraulis japonicus</td>\n",
       "      <td>33.511000</td>\n",
       "      <td>122.213033</td>\n",
       "      <td>1</td>\n",
       "    </tr>\n",
       "    <tr>\n",
       "      <th rowspan=\"2\" valign=\"top\">6.14</th>\n",
       "      <th>1.905</th>\n",
       "      <td>Liparis tanakae</td>\n",
       "      <td>34.502833</td>\n",
       "      <td>123.796067</td>\n",
       "      <td>1</td>\n",
       "    </tr>\n",
       "    <tr>\n",
       "      <th>2.049</th>\n",
       "      <td>Liparis tanakae</td>\n",
       "      <td>38.003533</td>\n",
       "      <td>121.710117</td>\n",
       "      <td>2</td>\n",
       "    </tr>\n",
       "    <tr>\n",
       "      <th>...</th>\n",
       "      <th>...</th>\n",
       "      <td>...</td>\n",
       "      <td>...</td>\n",
       "      <td>...</td>\n",
       "      <td>...</td>\n",
       "    </tr>\n",
       "    <tr>\n",
       "      <th>27.66</th>\n",
       "      <th>7.293</th>\n",
       "      <td>Eupleurogramms muticus</td>\n",
       "      <td>36.472383</td>\n",
       "      <td>122.022783</td>\n",
       "      <td>1</td>\n",
       "    </tr>\n",
       "    <tr>\n",
       "      <th>33.18</th>\n",
       "      <th>15.143</th>\n",
       "      <td>Eupleurogramms muticus</td>\n",
       "      <td>36.472383</td>\n",
       "      <td>122.022783</td>\n",
       "      <td>1</td>\n",
       "    </tr>\n",
       "    <tr>\n",
       "      <th>37.68</th>\n",
       "      <th>23.727</th>\n",
       "      <td>Eupleurogramms muticus</td>\n",
       "      <td>32.517917</td>\n",
       "      <td>123.039800</td>\n",
       "      <td>1</td>\n",
       "    </tr>\n",
       "    <tr>\n",
       "      <th>37.92</th>\n",
       "      <th>23.588</th>\n",
       "      <td>Eupleurogramms muticus</td>\n",
       "      <td>32.517917</td>\n",
       "      <td>123.039800</td>\n",
       "      <td>1</td>\n",
       "    </tr>\n",
       "    <tr>\n",
       "      <th>41.40</th>\n",
       "      <th>28.895</th>\n",
       "      <td>Eupleurogramms muticus</td>\n",
       "      <td>32.517917</td>\n",
       "      <td>123.039800</td>\n",
       "      <td>1</td>\n",
       "    </tr>\n",
       "  </tbody>\n",
       "</table>\n",
       "<p>444 rows × 4 columns</p>\n",
       "</div>"
      ],
      "text/plain": [
       "                                      latin        lat         lon  mp_counts\n",
       "length_cm weight_g                                                           \n",
       "5.64      2.281             Liparis tanakae  36.506817  122.987883          1\n",
       "5.80      1.956             Liparis tanakae  37.008500  123.531667          2\n",
       "6.04      1.046         Engraulis japonicus  33.511000  122.213033          1\n",
       "6.14      1.905             Liparis tanakae  34.502833  123.796067          1\n",
       "          2.049             Liparis tanakae  38.003533  121.710117          2\n",
       "...                                     ...        ...         ...        ...\n",
       "27.66     7.293     Eupleurogramms muticus   36.472383  122.022783          1\n",
       "33.18     15.143    Eupleurogramms muticus   36.472383  122.022783          1\n",
       "37.68     23.727    Eupleurogramms muticus   32.517917  123.039800          1\n",
       "37.92     23.588    Eupleurogramms muticus   32.517917  123.039800          1\n",
       "41.40     28.895    Eupleurogramms muticus   32.517917  123.039800          1\n",
       "\n",
       "[444 rows x 4 columns]"
      ]
     },
     "execution_count": 6,
     "metadata": {},
     "output_type": "execute_result"
    }
   ],
   "source": [
    "df_grouped"
   ]
  },
  {
   "cell_type": "markdown",
   "id": "e41f4380",
   "metadata": {},
   "source": [
    "### Split dataframe into train-val-test"
   ]
  },
  {
   "cell_type": "code",
   "execution_count": 7,
   "id": "99ce0744",
   "metadata": {
    "scrolled": false
   },
   "outputs": [],
   "source": [
    "# assign features and target\n",
    "X = df_grouped[list(df_grouped.columns[:-1])].reset_index()\n",
    "y = df_grouped['mp_counts'].reset_index()\n",
    "\n",
    "# initialize sklearn encoder\n",
    "encoder = OrdinalEncoder()\n",
    "\n",
    "# perform encoding on the latin name feature\n",
    "X['latin'] = encoder.fit_transform(X[['latin']])\n",
    "\n",
    "# intialize standard scaler for data transformation\n",
    "scaler = StandardScaler()\n",
    "\n",
    "# Standardize the features and target\n",
    "X = scaler.fit_transform(X.reset_index())\n",
    "y = scaler.fit_transform(y.reset_index())\n",
    "\n",
    "# Train-test split\n",
    "X_train, X_test, y_train, y_test = train_test_split(X, y, test_size=0.2, random_state=42)\n",
    "\n",
    "# split test into val-test\n",
    "X_val, X_test, y_val, y_test = train_test_split(X_test, y_test, test_size=0.5, random_state=42)"
   ]
  },
  {
   "cell_type": "code",
   "execution_count": 9,
   "id": "0619c17d",
   "metadata": {
    "scrolled": false
   },
   "outputs": [
    {
     "data": {
      "image/png": "[encoded data removed]",
      "text/plain": [
       "<Figure size 640x480 with 1 Axes>"
      ]
     },
     "metadata": {},
     "output_type": "display_data"
    }
   ],
   "source": [
    "# Apply PCA\n",
    "pca = PCA(n_components=min(X_train.shape))  \n",
    "X_train_pca = pca.fit_transform(X_train)\n",
    "\n",
    "# see how much variance each component explains\n",
    "explained_variance = pca.explained_variance_ratio_\n",
    "\n",
    "# generate figure to show EV\n",
    "plt.plot(np.cumsum(explained_variance))\n",
    "plt.title('EV vs N-Components')\n",
    "plt.ylabel('EV [%]')\n",
    "plt.xlabel('N-Components')\n",
    "plt.grid()\n",
    "plt.show()"
   ]
  },
  {
   "cell_type": "markdown",
   "id": "33eef9d6",
   "metadata": {},
   "source": [
    "### Define function for pulling satellite data"
   ]
  },
  {
   "cell_type": "code",
   "execution_count": 10,
   "id": "41ab21c8",
   "metadata": {},
   "outputs": [],
   "source": [
    "def getSatelliteData(input_date):\n",
    "    '''\n",
    "    perform url request to earthdata cmr for CYGNSS, RSSSMAP, and GHRSST data and return the data\n",
    "    from the most recent 30 days \n",
    "    '''\n",
    "    \n",
    "    if not isinstance(input_date, date):\n",
    "        raise TypeError(\"This function only accepts date objects.\")\n",
    "    \n",
    "    # define earthdata cmr url\n",
    "    earthdata_url = 'https://cmr.earthdata.nasa.gov/search/granules.umm_json?collection_concept_id='\n",
    "    \n",
    "    # login to earthdata portal to get credentials\n",
    "    auth = earthaccess.login()\n",
    "    \n",
    "    # define concept ids for desired data\n",
    "    cygnss_concept_id = 'C2893924134-POCLOUD' # microplastic\n",
    "    rsssmap_concept_id = 'C2832227567-POCLOUD' # sea surface salinity\n",
    "    ghrsst_concept_id = 'C2600797908-POCLOUD' # sea surface temperature\n",
    "\n",
    "    # define time range to search [days]\n",
    "    temporal_range = 30\n",
    "    \n",
    "    # calculate start data from input date\n",
    "    start_date = (input_date - timedelta(days=temporal_range)).strftime('%Y-%m-%dT%H:%M:%SZ')\n",
    "    \n",
    "    # format and combine start date and input date for url query parameter\n",
    "    temporal_query = start_date + ',' + input_date.strftime('%Y-%m-%dT%H:%M:%SZ')\n",
    "\n",
    "    # send search request to cmr with additional params\n",
    "    cygnss_r = requests.get(earthdata_url + cygnss_concept_id + '&temporal=' + temporal_query + '&pageSize=1000')\n",
    "    ghrsst_r = requests.get(earthdata_url + ghrsst_concept_id + '&temporal=' + temporal_query + '&pageSize=1000')\n",
    "    \n",
    "    # re-define time range [days] to search for RSSSMAP data because it is an 8 day average\n",
    "    temporal_range = 30 - 4\n",
    "    \n",
    "    # calculate start data from input date\n",
    "    start_date = (input_date - timedelta(days=temporal_range)).strftime('%Y-%m-%dT%H:%M:%SZ')\n",
    "    \n",
    "    # format and combine start date and input date for url query parameter\n",
    "    temporal_query = start_date + ',' + input_date.strftime('%Y-%m-%dT%H:%M:%SZ')\n",
    "    \n",
    "    rsssmap_r = requests.get(earthdata_url + rsssmap_concept_id + '&temporal=' + temporal_query + '&pageSize=1000')\n",
    "    \n",
    "    # aggregate data responses for pulling urls\n",
    "    data_r = [('CYGNSS',cygnss_r), ('RSSSMAP',rsssmap_r), ('GHRSST',ghrsst_r)]\n",
    "    \n",
    "    # if the resonse is good, parse through and print it\n",
    "    data_files = {key : [] for key, _ in data_r}\n",
    "    for data_name, r in data_r:\n",
    "        if r.ok:\n",
    "            response_body = r.json()\n",
    "            for itm in response_body['items']:\n",
    "                for urls in itm['umm']['RelatedUrls']:\n",
    "                    if 'OPeNDAP' in urls['Description']:\n",
    "                        data_files[data_name].append(urls['URL'])\n",
    "                    \n",
    "    return data_files\n",
    "    "
   ]
  },
  {
   "cell_type": "markdown",
   "id": "a60e9c49",
   "metadata": {},
   "source": [
    "### Get satellite data for Month of June 2016"
   ]
  },
  {
   "cell_type": "code",
   "execution_count": 14,
   "id": "34ddd590",
   "metadata": {},
   "outputs": [],
   "source": [
    "data_collection_date = date(2016, 7, 1)\n",
    "data_collection_date = date(2024, 10, 14)"
   ]
  },
  {
   "cell_type": "code",
   "execution_count": 15,
   "id": "e77f935a",
   "metadata": {
    "scrolled": true
   },
   "outputs": [
    {
     "name": "stdout",
     "output_type": "stream",
     "text": [
      "{'CYGNSS': ['https://opendap.earthdata.nasa.gov/collections/C2893924134-POCLOUD/granules/cyg.ddmi.s20240914-120000-e20240914-120000.l3.grid-microplastic.a32.d33',\n",
      "            'https://opendap.earthdata.nasa.gov/collections/C2893924134-POCLOUD/granules/cyg.ddmi.s20240915-120000-e20240915-120000.l3.grid-microplastic.a32.d33',\n",
      "            'https://opendap.earthdata.nasa.gov/collections/C2893924134-POCLOUD/granules/cyg.ddmi.s20240916-120000-e20240916-120000.l3.grid-microplastic.a32.d33',\n",
      "            'https://opendap.earthdata.nasa.gov/collections/C2893924134-POCLOUD/granules/cyg.ddmi.s20240917-120000-e20240917-120000.l3.grid-microplastic.a32.d33',\n",
      "            'https://opendap.earthdata.nasa.gov/collections/C2893924134-POCLOUD/granules/cyg.ddmi.s20240918-120000-e20240918-120000.l3.grid-microplastic.a32.d33',\n",
      "            'https://opendap.earthdata.nasa.gov/collections/C2893924134-POCLOUD/granules/cyg.ddmi.s20240919-120000-e20240919-120000.l3.grid-microplastic.a32.d33',\n",
      "            'https://opendap.earthdata.nasa.gov/collections/C2893924134-POCLOUD/granules/cyg.ddmi.s20240920-120000-e20240920-120000.l3.grid-microplastic.a32.d33',\n",
      "            'https://opendap.earthdata.nasa.gov/collections/C2893924134-POCLOUD/granules/cyg.ddmi.s20240921-120000-e20240921-120000.l3.grid-microplastic.a32.d33',\n",
      "            'https://opendap.earthdata.nasa.gov/collections/C2893924134-POCLOUD/granules/cyg.ddmi.s20240922-120000-e20240922-120000.l3.grid-microplastic.a32.d33',\n",
      "            'https://opendap.earthdata.nasa.gov/collections/C2893924134-POCLOUD/granules/cyg.ddmi.s20240923-120000-e20240923-120000.l3.grid-microplastic.a32.d33',\n",
      "            'https://opendap.earthdata.nasa.gov/collections/C2893924134-POCLOUD/granules/cyg.ddmi.s20240924-120000-e20240924-120000.l3.grid-microplastic.a32.d33',\n",
      "            'https://opendap.earthdata.nasa.gov/collections/C2893924134-POCLOUD/granules/cyg.ddmi.s20240925-120000-e20240925-120000.l3.grid-microplastic.a32.d33',\n",
      "            'https://opendap.earthdata.nasa.gov/collections/C2893924134-POCLOUD/granules/cyg.ddmi.s20240926-120000-e20240926-120000.l3.grid-microplastic.a32.d33',\n",
      "            'https://opendap.earthdata.nasa.gov/collections/C2893924134-POCLOUD/granules/cyg.ddmi.s20240927-120000-e20240927-120000.l3.grid-microplastic.a32.d33',\n",
      "            'https://opendap.earthdata.nasa.gov/collections/C2893924134-POCLOUD/granules/cyg.ddmi.s20240928-120000-e20240928-120000.l3.grid-microplastic.a32.d33',\n",
      "            'https://opendap.earthdata.nasa.gov/collections/C2893924134-POCLOUD/granules/cyg.ddmi.s20240929-120000-e20240929-120000.l3.grid-microplastic.a32.d33',\n",
      "            'https://opendap.earthdata.nasa.gov/collections/C2893924134-POCLOUD/granules/cyg.ddmi.s20240930-120000-e20240930-120000.l3.grid-microplastic.a32.d33',\n",
      "            'https://opendap.earthdata.nasa.gov/collections/C2893924134-POCLOUD/granules/cyg.ddmi.s20241001-120000-e20241001-120000.l3.grid-microplastic.a32.d33'],\n",
      " 'GHRSST': ['https://opendap.earthdata.nasa.gov/collections/C2600797908-POCLOUD/granules/20240914000000-REMSS-L3U_GHRSST-SSTsubskin-AMSR2-RSS_AMSR2_ocean_L3_daily_2024-09-14_v08.2-rt-v02.0-fv01.0',\n",
      "            'https://opendap.earthdata.nasa.gov/collections/C2600797908-POCLOUD/granules/20240915000000-REMSS-L3U_GHRSST-SSTsubskin-AMSR2-RSS_AMSR2_ocean_L3_daily_2024-09-15_v08.2-rt-v02.0-fv01.0',\n",
      "            'https://opendap.earthdata.nasa.gov/collections/C2600797908-POCLOUD/granules/20240926000000-REMSS-L3U_GHRSST-SSTsubskin-AMSR2-RSS_AMSR2_ocean_L3_daily_2024-09-26_v08.2-rt-v02.0-fv01.0',\n",
      "            'https://opendap.earthdata.nasa.gov/collections/C2600797908-POCLOUD/granules/20240927000000-REMSS-L3U_GHRSST-SSTsubskin-AMSR2-RSS_AMSR2_ocean_L3_daily_2024-09-27_v08.2-rt-v02.0-fv01.0',\n",
      "            'https://opendap.earthdata.nasa.gov/collections/C2600797908-POCLOUD/granules/20240928000000-REMSS-L3U_GHRSST-SSTsubskin-AMSR2-RSS_AMSR2_ocean_L3_daily_2024-09-28_v08.2-rt-v02.0-fv01.0',\n",
      "            'https://opendap.earthdata.nasa.gov/collections/C2600797908-POCLOUD/granules/20240929000000-REMSS-L3U_GHRSST-SSTsubskin-AMSR2-RSS_AMSR2_ocean_L3_daily_2024-09-29_v08.2-rt-v02.0-fv01.0',\n",
      "            'https://opendap.earthdata.nasa.gov/collections/C2600797908-POCLOUD/granules/20240930000000-REMSS-L3U_GHRSST-SSTsubskin-AMSR2-RSS_AMSR2_ocean_L3_daily_2024-09-30_v08.2-rt-v02.0-fv01.0',\n",
      "            'https://opendap.earthdata.nasa.gov/collections/C2600797908-POCLOUD/granules/20241001000000-REMSS-L3U_GHRSST-SSTsubskin-AMSR2-RSS_AMSR2_ocean_L3_daily_2024-10-01_v08.2-rt-v02.0-fv01.0'],\n",
      " 'RSSSMAP': ['https://opendap.earthdata.nasa.gov/collections/C2832227567-POCLOUD/granules/RSS_smap_SSS_L3_8day_running_2024_258_FNL_v06.0',\n",
      "             'https://opendap.earthdata.nasa.gov/collections/C2832227567-POCLOUD/granules/RSS_smap_SSS_L3_8day_running_2024_259_FNL_v06.0',\n",
      "             'https://opendap.earthdata.nasa.gov/collections/C2832227567-POCLOUD/granules/RSS_smap_SSS_L3_8day_running_2024_260_FNL_v06.0',\n",
      "             'https://opendap.earthdata.nasa.gov/collections/C2832227567-POCLOUD/granules/RSS_smap_SSS_L3_8day_running_2024_261_FNL_v06.0',\n",
      "             'https://opendap.earthdata.nasa.gov/collections/C2832227567-POCLOUD/granules/RSS_smap_SSS_L3_8day_running_2024_262_FNL_v06.0',\n",
      "             'https://opendap.earthdata.nasa.gov/collections/C2832227567-POCLOUD/granules/RSS_smap_SSS_L3_8day_running_2024_263_FNL_v06.0',\n",
      "             'https://opendap.earthdata.nasa.gov/collections/C2832227567-POCLOUD/granules/RSS_smap_SSS_L3_8day_running_2024_264_FNL_v06.0',\n",
      "             'https://opendap.earthdata.nasa.gov/collections/C2832227567-POCLOUD/granules/RSS_smap_SSS_L3_8day_running_2024_265_FNL_v06.0',\n",
      "             'https://opendap.earthdata.nasa.gov/collections/C2832227567-POCLOUD/granules/RSS_smap_SSS_L3_8day_running_2024_266_FNL_v06.0',\n",
      "             'https://opendap.earthdata.nasa.gov/collections/C2832227567-POCLOUD/granules/RSS_smap_SSS_L3_8day_running_2024_267_FNL_v06.0',\n",
      "             'https://opendap.earthdata.nasa.gov/collections/C2832227567-POCLOUD/granules/RSS_smap_SSS_L3_8day_running_2024_268_FNL_v06.0',\n",
      "             'https://opendap.earthdata.nasa.gov/collections/C2832227567-POCLOUD/granules/RSS_smap_SSS_L3_8day_running_2024_269_FNL_v06.0',\n",
      "             'https://opendap.earthdata.nasa.gov/collections/C2832227567-POCLOUD/granules/RSS_smap_SSS_L3_8day_running_2024_270_FNL_v06.0',\n",
      "             'https://opendap.earthdata.nasa.gov/collections/C2832227567-POCLOUD/granules/RSS_smap_SSS_L3_8day_running_2024_271_FNL_v06.0',\n",
      "             'https://opendap.earthdata.nasa.gov/collections/C2832227567-POCLOUD/granules/RSS_smap_SSS_L3_8day_running_2024_272_FNL_v06.0',\n",
      "             'https://opendap.earthdata.nasa.gov/collections/C2832227567-POCLOUD/granules/RSS_smap_SSS_L3_8day_running_2024_273_FNL_v06.0',\n",
      "             'https://opendap.earthdata.nasa.gov/collections/C2832227567-POCLOUD/granules/RSS_smap_SSS_L3_8day_running_2024_274_FNL_v06.0',\n",
      "             'https://opendap.earthdata.nasa.gov/collections/C2832227567-POCLOUD/granules/RSS_smap_SSS_L3_8day_running_2024_275_FNL_v06.0',\n",
      "             'https://opendap.earthdata.nasa.gov/collections/C2832227567-POCLOUD/granules/RSS_smap_SSS_L3_8day_running_2024_276_FNL_v06.0',\n",
      "             'https://opendap.earthdata.nasa.gov/collections/C2832227567-POCLOUD/granules/RSS_smap_SSS_L3_8day_running_2024_277_FNL_v06.0',\n",
      "             'https://opendap.earthdata.nasa.gov/collections/C2832227567-POCLOUD/granules/RSS_smap_SSS_L3_8day_running_2024_278_FNL_v06.0',\n",
      "             'https://opendap.earthdata.nasa.gov/collections/C2832227567-POCLOUD/granules/RSS_smap_SSS_L3_8day_running_2024_279_FNL_v06.0',\n",
      "             'https://opendap.earthdata.nasa.gov/collections/C2832227567-POCLOUD/granules/RSS_smap_SSS_L3_8day_running_2024_280_FNL_v06.0',\n",
      "             'https://opendap.earthdata.nasa.gov/collections/C2832227567-POCLOUD/granules/RSS_smap_SSS_L3_8day_running_2024_281_FNL_v06.0',\n",
      "             'https://opendap.earthdata.nasa.gov/collections/C2832227567-POCLOUD/granules/RSS_smap_SSS_L3_8day_running_2024_282_FNL_v06.0',\n",
      "             'https://opendap.earthdata.nasa.gov/collections/C2832227567-POCLOUD/granules/RSS_smap_SSS_L3_8day_running_2024_283_FNL_v06.0',\n",
      "             'https://opendap.earthdata.nasa.gov/collections/C2832227567-POCLOUD/granules/RSS_smap_SSS_L3_8day_running_2024_284_FNL_v06.0']}\n"
     ]
    }
   ],
   "source": [
    "satellite_files = getSatelliteData(data_collection_date)\n",
    "pprint(satellite_files)"
   ]
  },
  {
   "cell_type": "code",
   "execution_count": 16,
   "id": "7865a8b4",
   "metadata": {},
   "outputs": [
    {
     "name": "stdout",
     "output_type": "stream",
     "text": [
      "Loading satellite data took 470.855019 seconds\n",
      "\n"
     ]
    }
   ],
   "source": [
    "# takes ~5 minutes to load in a months worth of data\n",
    "tic = datetime.now()\n",
    "mp_satellite_data = [file.replace('https','dap4') for file in satellite_files['CYGNSS']]\n",
    "mp_sat_data = xr.open_mfdataset(mp_satellite_data, combine='by_coords', engine='pydap')\n",
    "print(f'Loading satellite data took {(datetime.now() - tic).total_seconds()} seconds\\n')"
   ]
  },
  {
   "cell_type": "markdown",
   "id": "fecd6038",
   "metadata": {},
   "source": [
    "### Quick look at local region for data"
   ]
  },
  {
   "cell_type": "code",
   "execution_count": 18,
   "id": "c521f7bf",
   "metadata": {},
   "outputs": [],
   "source": [
    "# # get geographic bounding box for the data\n",
    "# lat_max, lon_max, lat_min, lon_min = (X_train[['lat','lon']].agg(['max','min']).to_numpy().flatten())\n",
    "\n",
    "# # assign subregion from all satellite coverage to localized area of data\n",
    "# region = mp_sat_data.sel(lat=slice(lat_min, lat_max), lon=slice(lon_min, lon_max))\n",
    "# print(region)"
   ]
  },
  {
   "cell_type": "markdown",
   "id": "8223dc4f",
   "metadata": {},
   "source": [
    "### Quick XGBoost Model on Tabular Data"
   ]
  },
  {
   "cell_type": "code",
   "execution_count": 19,
   "id": "1e5c2339",
   "metadata": {},
   "outputs": [
    {
     "name": "stdout",
     "output_type": "stream",
     "text": [
      "Mean Squared Error: 0.111876\n"
     ]
    }
   ],
   "source": [
    "# Initialize the XGBoost regressor\n",
    "model = xgb.XGBRegressor(eval_metric='rmse')\n",
    "\n",
    "# Train the model\n",
    "model.fit(X_train, y_train)\n",
    "\n",
    "# Make predictions on the test set\n",
    "y_pred = model.predict(X_val)\n",
    "\n",
    "# # Evaluate the model's performance\n",
    "mse = mean_squared_error(y_val, y_pred)\n",
    "\n",
    "print(f\"Mean Squared Error: {mse:.6f}\")"
   ]
  },
  {
   "cell_type": "markdown",
   "id": "a4d3b16f",
   "metadata": {},
   "source": [
    "#### CV GridSearch for best model"
   ]
  },
  {
   "cell_type": "code",
   "execution_count": 20,
   "id": "659cd2ae",
   "metadata": {},
   "outputs": [
    {
     "name": "stdout",
     "output_type": "stream",
     "text": [
      "Fitting 3 folds for each of 72 candidates, totalling 216 fits\n",
      "Best parameters: {'learning_rate': 0.1, 'max_depth': 3, 'n_estimators': 50, 'subsample': 1.0}\n",
      "Mean Squared Error: 0.098873\n"
     ]
    }
   ],
   "source": [
    "# Define a parameter grid\n",
    "param_grid = {\n",
    "    'max_depth': [3, 5, 7],\n",
    "    'learning_rate': [0.001, 0.01, 0.1, 0.2],\n",
    "    'n_estimators': [50,100, 200],\n",
    "    'subsample': [0.8, 1.0],\n",
    "}\n",
    "\n",
    "# Initialize the regressor\n",
    "gs_model = xgb.XGBRegressor(eval_metric='rmse')\n",
    "\n",
    "# generate and configure grid search object\n",
    "grid_search = GridSearchCV(\n",
    "                           estimator=gs_model, \n",
    "                           param_grid=param_grid, \n",
    "                           scoring='neg_mean_squared_error', \n",
    "                           cv=3, \n",
    "                           verbose=1\n",
    "                          )\n",
    "\n",
    "# perform grid search\n",
    "grid_search.fit(X_train, y_train)\n",
    "\n",
    "# Get the best parameters\n",
    "print(f\"Best parameters: {grid_search.best_params_}\")\n",
    "\n",
    "# generate model with best parameters from grid search\n",
    "model = xgb.XGBRegressor(**grid_search.best_params_, eval_metric='rmse')\n",
    "\n",
    "# fit best model\n",
    "model.fit(X_train, y_train)\n",
    "\n",
    "# Make predictions on the test set\n",
    "y_pred = model.predict(X_val)\n",
    "\n",
    "# Evaluate the model's performance\n",
    "mse = mean_squared_error(y_val, y_pred)\n",
    "print(f\"Mean Squared Error: {mse:.6f}\")"
   ]
  },
  {
   "cell_type": "markdown",
   "id": "220427b3",
   "metadata": {},
   "source": [
    "#### Retrain Best Model from GridSearch"
   ]
  },
  {
   "cell_type": "code",
   "execution_count": 21,
   "id": "ecd329b8",
   "metadata": {
    "scrolled": false
   },
   "outputs": [
    {
     "name": "stdout",
     "output_type": "stream",
     "text": [
      "[0]\tvalidation_0-rmse:0.89244\tvalidation_1-rmse:1.14111\n",
      "[1]\tvalidation_0-rmse:0.82852\tvalidation_1-rmse:1.06025\n",
      "[2]\tvalidation_0-rmse:0.77065\tvalidation_1-rmse:0.98674\n",
      "[3]\tvalidation_0-rmse:0.71832\tvalidation_1-rmse:0.92062\n",
      "[4]\tvalidation_0-rmse:0.67097\tvalidation_1-rmse:0.86072\n",
      "[5]\tvalidation_0-rmse:0.62811\tvalidation_1-rmse:0.80586\n",
      "[6]\tvalidation_0-rmse:0.58939\tvalidation_1-rmse:0.75651\n",
      "[7]\tvalidation_0-rmse:0.55441\tvalidation_1-rmse:0.71239\n",
      "[8]\tvalidation_0-rmse:0.52271\tvalidation_1-rmse:0.67164\n",
      "[9]\tvalidation_0-rmse:0.49409\tvalidation_1-rmse:0.63307\n",
      "[10]\tvalidation_0-rmse:0.46813\tvalidation_1-rmse:0.59768\n",
      "[11]\tvalidation_0-rmse:0.44455\tvalidation_1-rmse:0.56506\n",
      "[12]\tvalidation_0-rmse:0.42337\tvalidation_1-rmse:0.53631\n",
      "[13]\tvalidation_0-rmse:0.40429\tvalidation_1-rmse:0.50979\n",
      "[14]\tvalidation_0-rmse:0.38710\tvalidation_1-rmse:0.48555\n",
      "[15]\tvalidation_0-rmse:0.37146\tvalidation_1-rmse:0.46425\n",
      "[16]\tvalidation_0-rmse:0.35736\tvalidation_1-rmse:0.44483\n",
      "[17]\tvalidation_0-rmse:0.34452\tvalidation_1-rmse:0.42666\n",
      "[18]\tvalidation_0-rmse:0.33298\tvalidation_1-rmse:0.41084\n",
      "[19]\tvalidation_0-rmse:0.32254\tvalidation_1-rmse:0.40051\n",
      "[20]\tvalidation_0-rmse:0.31298\tvalidation_1-rmse:0.39133\n",
      "[21]\tvalidation_0-rmse:0.30439\tvalidation_1-rmse:0.38331\n",
      "[22]\tvalidation_0-rmse:0.29619\tvalidation_1-rmse:0.37547\n",
      "[23]\tvalidation_0-rmse:0.28909\tvalidation_1-rmse:0.36561\n",
      "[24]\tvalidation_0-rmse:0.28257\tvalidation_1-rmse:0.36033\n",
      "[25]\tvalidation_0-rmse:0.27665\tvalidation_1-rmse:0.35646\n",
      "[26]\tvalidation_0-rmse:0.27091\tvalidation_1-rmse:0.35085\n",
      "[27]\tvalidation_0-rmse:0.26606\tvalidation_1-rmse:0.34607\n",
      "[28]\tvalidation_0-rmse:0.26132\tvalidation_1-rmse:0.34191\n",
      "[29]\tvalidation_0-rmse:0.25721\tvalidation_1-rmse:0.33818\n",
      "[30]\tvalidation_0-rmse:0.25349\tvalidation_1-rmse:0.33592\n",
      "[31]\tvalidation_0-rmse:0.24989\tvalidation_1-rmse:0.33288\n",
      "[32]\tvalidation_0-rmse:0.24684\tvalidation_1-rmse:0.33013\n",
      "[33]\tvalidation_0-rmse:0.24384\tvalidation_1-rmse:0.32701\n",
      "[34]\tvalidation_0-rmse:0.24122\tvalidation_1-rmse:0.32510\n",
      "[35]\tvalidation_0-rmse:0.23882\tvalidation_1-rmse:0.32445\n",
      "[36]\tvalidation_0-rmse:0.23663\tvalidation_1-rmse:0.32355\n",
      "[37]\tvalidation_0-rmse:0.23476\tvalidation_1-rmse:0.32226\n",
      "[38]\tvalidation_0-rmse:0.23295\tvalidation_1-rmse:0.32146\n",
      "[39]\tvalidation_0-rmse:0.23140\tvalidation_1-rmse:0.32106\n",
      "[40]\tvalidation_0-rmse:0.22926\tvalidation_1-rmse:0.32006\n",
      "[41]\tvalidation_0-rmse:0.22777\tvalidation_1-rmse:0.31831\n",
      "[42]\tvalidation_0-rmse:0.22645\tvalidation_1-rmse:0.31833\n",
      "[43]\tvalidation_0-rmse:0.22446\tvalidation_1-rmse:0.31753\n",
      "[44]\tvalidation_0-rmse:0.22325\tvalidation_1-rmse:0.31672\n",
      "[45]\tvalidation_0-rmse:0.22169\tvalidation_1-rmse:0.31607\n",
      "[46]\tvalidation_0-rmse:0.22069\tvalidation_1-rmse:0.31526\n",
      "[47]\tvalidation_0-rmse:0.21966\tvalidation_1-rmse:0.31529\n",
      "[48]\tvalidation_0-rmse:0.21891\tvalidation_1-rmse:0.31481\n",
      "[49]\tvalidation_0-rmse:0.21810\tvalidation_1-rmse:0.31444\n"
     ]
    },
    {
     "data": {
      "image/png": "[encoded data removed]",
      "text/plain": [
       "<Figure size 1000x500 with 1 Axes>"
      ]
     },
     "metadata": {},
     "output_type": "display_data"
    },
    {
     "data": {
      "image/png": "[encoded data removed]",
      "text/plain": [
       "<Figure size 640x480 with 1 Axes>"
      ]
     },
     "metadata": {},
     "output_type": "display_data"
    }
   ],
   "source": [
    "# Refit the best model with early stopping after grid search\n",
    "model.fit(X_train, y_train, eval_set=[(X_train,y_train),(X_val,y_val)], verbose=True)\n",
    "\n",
    "# Make predictions on the validation set\n",
    "y_pred = model.predict(X_val)\n",
    "\n",
    "# Extract training and validation RMSE from the model\n",
    "results = model.evals_result()\n",
    "train_rmse = results['validation_0']['rmse']\n",
    "val_rmse = results['validation_1']['rmse']\n",
    "\n",
    "# Plot RMSE for training and validation sets over iterations\n",
    "plt.figure(figsize=(10, 5))\n",
    "plt.plot(train_rmse, label='Train RMSE', color='blue')\n",
    "plt.plot(val_rmse, label='Validation RMSE', color='orange')\n",
    "plt.xlabel('Iterations')\n",
    "plt.ylabel('RMSE')\n",
    "plt.title('Training and Validation RMSE')\n",
    "plt.legend()\n",
    "plt.grid()\n",
    "plt.show()\n",
    "\n",
    "# Plot feature importance\n",
    "xgb.plot_importance(model)\n",
    "plt.title(\"Feature Importance\")\n",
    "plt.show()"
   ]
  },
  {
   "cell_type": "code",
   "execution_count": null,
   "id": "f2ee8433",
   "metadata": {},
   "outputs": [],
   "source": []
  }
 ],
 "metadata": {
  "kernelspec": {
   "display_name": "Python 3 (ipykernel)",
   "language": "python",
   "name": "python3"
  },
  "language_info": {
   "codemirror_mode": {
    "name": "ipython",
    "version": 3
   },
   "file_extension": ".py",
   "mimetype": "text/x-python",
   "name": "python",
   "nbconvert_exporter": "python",
   "pygments_lexer": "ipython3",
   "version": "3.10.9"
  }
 },
 "nbformat": 4,
 "nbformat_minor": 5
}
