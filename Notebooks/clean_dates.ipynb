{
 "cells": [
  {
   "cell_type": "code",
   "execution_count": 8,
   "metadata": {},
   "outputs": [],
   "source": [
    "import pandas as pd\n",
    "import numpy as np\n",
    "from pprint import pprint\n",
    "from datetime import date, timedelta, datetime\n",
    "import re\n",
    "from dateutil import parser\n"
   ]
  },
  {
   "cell_type": "code",
   "execution_count": 9,
   "metadata": {},
   "outputs": [],
   "source": [
    "df = pd.read_csv('../agg_data.csv')"
   ]
  },
  {
   "cell_type": "code",
   "execution_count": 10,
   "metadata": {},
   "outputs": [],
   "source": [
    "manual_corrections = {\n",
    "    'Nov 2014 - Apr 2015': 'November 2014-April 2015',\n",
    "    'January-April 2018': 'January 2018-April 2018',\n",
    "    'October 2015, 2016': 'October 2015-October 2016',\n",
    "    'February - March 2017': 'February 2017-March 2017',\n",
    "    '43659': 'July 2013',  # Looked up in paper\n",
    "    'July-October 2010, January-Februrary 2011': 'July 2010-February 2011',\n",
    "    'January - March 2017': 'January 2017-March 2017',\n",
    "    '43478': 'January 2013',  # Looked up in paper\n",
    "    '8-Jul': 'October 2016',   # Looked up in paper\n",
    "    'July - December 2016': 'July 2016-December 2016',\n",
    "    'March-May 2014': 'March 2014-May 2014',\n",
    "    '14-Nov': 'November 2014',  # Looked up in paper\n",
    "    'June-July 2013': 'June 2013-July 2013',\n",
    "    'Nov-Dec 2014, 2015': 'November 2014-December 2015',\n",
    "    '13-Jul': 'September 2013-January 2014',   # Looked up in paper\n",
    "    'Feb. -April 2007': 'February 2007-April 2007',\n",
    "    '2009-2013?': '2009-2013',\n",
    "    '18-Jan': 'September 2017',   # Locked up in paper\n",
    "    'summer and autumn 2010': 'Summer 2010-Fall 2010',\n",
    "    'August-September 2005': 'August 2005-September 2005',\n",
    "    'July 1970 - August 1971': 'July 1970-August 1971',\n",
    "    'Sep-10': \"September 2010\",\n",
    "    'May-11': 'May 2011',\n",
    "    'Jul-13': 'July 2013',\n",
    "    'Jan-18': 'January 2018',\n",
    "    'Mar-17': 'March 2017'\n",
    "}\n",
    "\n",
    "# Replace values in the original column using the manual_corrections dictionary\n",
    "df['Year of collection'] = df['Year of collection'].replace(manual_corrections)"
   ]
  },
  {
   "cell_type": "code",
   "execution_count": 11,
   "metadata": {},
   "outputs": [],
   "source": [
    "def parse_date(text):\n",
    "    # Handle NaN values directly\n",
    "    if pd.isna(text):\n",
    "        return np.nan\n",
    "    \n",
    "    try:\n",
    "        # Year only, e.g., '2014'\n",
    "        if re.match(r'^\\d{4}$', text):\n",
    "            return (pd.to_datetime(text + '-01-01'), pd.to_datetime(text + '-12-31'))\n",
    "        \n",
    "        # Season and year, e.g., 'Summer 2016'\n",
    "        elif re.match(r'^(Spring|Summer|Fall|Winter) \\d{4}$', text, re.IGNORECASE):\n",
    "            season, year = text.split()\n",
    "            if season.lower() == 'spring':\n",
    "                start_month = '03'\n",
    "                end_month = '05'\n",
    "            elif season.lower() == 'summer':\n",
    "                start_month = '06'\n",
    "                end_month = '08'\n",
    "            elif season.lower() == 'fall':\n",
    "                start_month = '09'\n",
    "                end_month = '11'\n",
    "            elif season.lower() == 'winter':\n",
    "                start_month = '12'\n",
    "                end_month = '02'\n",
    "            return (pd.to_datetime(f\"{year}-{start_month}-01\"), pd.to_datetime(f\"{year}-{end_month}-30\"))\n",
    "        \n",
    "        # Year range, e.g., '2012-2022'\n",
    "        elif re.match(r'^\\d{4}-\\d{4}$', text):\n",
    "            start_year, end_year = text.split('-')\n",
    "            return (pd.to_datetime(start_year + '-01-01'), pd.to_datetime(end_year + '-12-31'))\n",
    "        \n",
    "        # Season range, e.g., 'Spring 2012-Fall 2015'\n",
    "        elif re.match(r'^(Spring|Summer|Fall|Winter) \\d{4}-(Spring|Summer|Fall|Winter) \\d{4}$', text, re.IGNORECASE):\n",
    "            start_season, start_year, end_season, end_year = re.split(r'[- ]', text)\n",
    "            season_map_start = {'spring': '03', 'summer': '06', 'fall': '09', 'winter': '12'}\n",
    "            season_map_end = {'spring': '05', 'summer': '08', 'fall': '11', 'winter': '02'}\n",
    "            start_month = season_map_start[start_season.lower()]\n",
    "            end_month = season_map_end[end_season.lower()]\n",
    "            return (pd.to_datetime(f\"{start_year}-{start_month}-01\"), pd.to_datetime(f\"{end_year}-{end_month}-30\"))\n",
    "        \n",
    "        # Month range, e.g., 'January 2012-March 2013'\n",
    "        elif re.match(r'^[A-Za-z]+ \\d{4}-[A-Za-z]+ \\d{4}$', text):\n",
    "            start_month_year, end_month_year = text.split('-')\n",
    "            start_date = pd.to_datetime(start_month_year)\n",
    "            end_date = pd.to_datetime(end_month_year)\n",
    "            return (start_date, end_date)\n",
    "        \n",
    "        # Month and year, e.g., 'November 2011'\n",
    "        elif re.match(r'^[A-Za-z]+ \\d{4}$', text):\n",
    "            return (pd.to_datetime(text), pd.to_datetime(text) + pd.offsets.MonthEnd(0))\n",
    "        \n",
    "        # Full date (if in ambiguous format, can adjust format here)\n",
    "        else:\n",
    "            return (pd.to_datetime(text, errors='coerce'), pd.to_datetime(text, errors='coerce') + pd.offsets.MonthEnd(0))\n",
    "        \n",
    "    except Exception as e:\n",
    "        print(f\"Error parsing date '{text}': {e}\")\n",
    "        return np.nan\n",
    "\n",
    "# Apply the function to create a new column\n",
    "df['parsed_date'] = df['Year of collection'].apply(parse_date)\n",
    "\n",
    "\n"
   ]
  },
  {
   "cell_type": "code",
   "execution_count": 12,
   "metadata": {},
   "outputs": [
    {
     "data": {
      "text/plain": [
       "array([nan], dtype=object)"
      ]
     },
     "execution_count": 12,
     "metadata": {},
     "output_type": "execute_result"
    }
   ],
   "source": [
    "missing_rows = df[df['parsed_date'].isna()]\n",
    "\n",
    "missing_rows['Year of collection'].unique()"
   ]
  },
  {
   "cell_type": "code",
   "execution_count": 13,
   "metadata": {},
   "outputs": [],
   "source": [
    "def risk_category(col, no_risk_threshold, low_risk_threshold):\n",
    "        if col <= no_risk_threshold:\n",
    "            return 0  # No risk\n",
    "        elif col <= low_risk_threshold:\n",
    "            return 1  # Low risk\n",
    "        else:\n",
    "            return 2  # High risk"
   ]
  },
  {
   "cell_type": "code",
   "execution_count": 14,
   "metadata": {},
   "outputs": [],
   "source": [
    "# Apply the function to create a new column\n",
    "df['Risk_0_3'] = df['Mean num particles per indv'].apply(lambda x: risk_category(x, 0, 3))\n",
    "df['Risk_0_5'] = df['Mean num particles per indv'].apply(lambda x: risk_category(x, 0, 5))\n",
    "df['Risk_0_10'] = df['Mean num particles per indv'].apply(lambda x: risk_category(x, 0, 10))\n",
    "df['Risk_0pt5_5'] = df['Mean num particles per indv'].apply(lambda x: risk_category(x, 0.5, 5))\n",
    "df['Risk_0pt5_10'] = df['Mean num particles per indv'].apply(lambda x: risk_category(x, 0.5, 10))\n",
    "df['Risk_1_5'] = df['Mean num particles per indv'].apply(lambda x: risk_category(x, 1, 5))\n",
    "df['Risk_1_10'] = df['Mean num particles per indv'].apply(lambda x: risk_category(x, 1, 10))\n",
    "df['Risk_3_10'] = df['Mean num particles per indv'].apply(lambda x: risk_category(x, 3, 10))\n",
    "df['Risk_5_10'] = df['Mean num particles per indv'].apply(lambda x: risk_category(x, 5, 10))"
   ]
  },
  {
   "cell_type": "code",
   "execution_count": 15,
   "metadata": {},
   "outputs": [],
   "source": [
    "df.to_csv('../agg_data_cleaned.csv')"
   ]
  },
  {
   "cell_type": "code",
   "execution_count": null,
   "metadata": {},
   "outputs": [],
   "source": []
  }
 ],
 "metadata": {
  "kernelspec": {
   "display_name": "base",
   "language": "python",
   "name": "python3"
  },
  "language_info": {
   "codemirror_mode": {
    "name": "ipython",
    "version": 3
   },
   "file_extension": ".py",
   "mimetype": "text/x-python",
   "name": "python",
   "nbconvert_exporter": "python",
   "pygments_lexer": "ipython3",
   "version": "3.11.4"
  }
 },
 "nbformat": 4,
 "nbformat_minor": 2
}
