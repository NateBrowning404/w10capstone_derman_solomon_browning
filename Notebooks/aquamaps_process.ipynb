{
 "cells": [
  {
   "cell_type": "code",
   "execution_count": 1,
   "metadata": {},
   "outputs": [],
   "source": [
    "import os"
   ]
  },
  {
   "cell_type": "code",
   "execution_count": 2,
   "metadata": {},
   "outputs": [],
   "source": [
    "def clean_file(file_path):\n",
    "    \"\"\"Function to clean a single file by removing metadata and renaming with scientific name.\"\"\"\n",
    "    with open(file_path, 'r') as file:\n",
    "        lines = file.readlines()\n",
    "\n",
    "    # Find the line where the table starts (line with \"Genus,Species,...\")\n",
    "    table_start_idx = None\n",
    "    for i, line in enumerate(lines):\n",
    "        if line.startswith(\"Genus,Species\"):\n",
    "            table_start_idx = i\n",
    "            break\n",
    "    \n",
    "    if table_start_idx is None:\n",
    "        print(f\"Could not find data table in file: {file_path}\")\n",
    "        return\n",
    "    \n",
    "    # Extract the scientific name from the first row of data after the header\n",
    "    genus, species = lines[table_start_idx + 1].split(',')[:2]\n",
    "    scientific_name = f\"{genus.strip()}_{species.strip()}\"\n",
    "\n",
    "    # Clean the file by removing all lines before the table starts\n",
    "    cleaned_lines = lines[table_start_idx:]\n",
    "\n",
    "    # Create the new file path using the scientific name\n",
    "    new_file_path = os.path.join(os.path.dirname(file_path), f\"{scientific_name}.csv\")\n",
    "\n",
    "    # Save the cleaned file\n",
    "    with open(new_file_path, 'w') as cleaned_file:\n",
    "        cleaned_file.writelines(cleaned_lines)\n",
    "\n",
    "    print(f\"Processed and saved: {new_file_path}\")\n"
   ]
  },
  {
   "cell_type": "code",
   "execution_count": 3,
   "metadata": {},
   "outputs": [],
   "source": [
    "def process_folder(folder_path):\n",
    "    \"\"\"Function to process all CSV files in a folder.\"\"\"\n",
    "    for filename in os.listdir(folder_path):\n",
    "        if filename.endswith(\".csv\"):\n",
    "            file_path = os.path.join(folder_path, filename)\n",
    "            clean_file(file_path)"
   ]
  },
  {
   "cell_type": "code",
   "execution_count": 4,
   "metadata": {},
   "outputs": [
    {
     "name": "stdout",
     "output_type": "stream",
     "text": [
      "Processed and saved: /Users/kayladerman/github/mids-w210-capstone-browning-derman-solomon/AquaMaps Data/Raw/Mytella_charruana.csv\n",
      "Processed and saved: /Users/kayladerman/github/mids-w210-capstone-browning-derman-solomon/AquaMaps Data/Raw/Selene_peruviana.csv\n",
      "Processed and saved: /Users/kayladerman/github/mids-w210-capstone-browning-derman-solomon/AquaMaps Data/Raw/Sphyrna_lewini.csv\n",
      "Processed and saved: /Users/kayladerman/github/mids-w210-capstone-browning-derman-solomon/AquaMaps Data/Raw/Lutjanus_argentiventris.csv\n",
      "Processed and saved: /Users/kayladerman/github/mids-w210-capstone-browning-derman-solomon/AquaMaps Data/Raw/Mugil_cephalus.csv\n",
      "Processed and saved: /Users/kayladerman/github/mids-w210-capstone-browning-derman-solomon/AquaMaps Data/Raw/Dosidicus_gigas.csv\n",
      "Processed and saved: /Users/kayladerman/github/mids-w210-capstone-browning-derman-solomon/AquaMaps Data/Raw/Coryphaena_hippurus.csv\n",
      "Processed and saved: /Users/kayladerman/github/mids-w210-capstone-browning-derman-solomon/AquaMaps Data/Raw/Chloroscombrus_orqueta.csv\n",
      "Processed and saved: /Users/kayladerman/github/mids-w210-capstone-browning-derman-solomon/AquaMaps Data/Raw/Alopias_superciliosus.csv\n",
      "Processed and saved: /Users/kayladerman/github/mids-w210-capstone-browning-derman-solomon/AquaMaps Data/Raw/Centropomus_robalito.csv\n",
      "Processed and saved: /Users/kayladerman/github/mids-w210-capstone-browning-derman-solomon/AquaMaps Data/Raw/Cynoscion_analis.csv\n",
      "Processed and saved: /Users/kayladerman/github/mids-w210-capstone-browning-derman-solomon/AquaMaps Data/Raw/Peprilus_medius.csv\n",
      "Processed and saved: /Users/kayladerman/github/mids-w210-capstone-browning-derman-solomon/AquaMaps Data/Raw/Crassostrea_corteziensis.csv\n",
      "Processed and saved: /Users/kayladerman/github/mids-w210-capstone-browning-derman-solomon/AquaMaps Data/Raw/Cetengraulis_mysticetus.csv\n",
      "Processed and saved: /Users/kayladerman/github/mids-w210-capstone-browning-derman-solomon/AquaMaps Data/Raw/Cynoscion_stolzmanni.csv\n",
      "Processed and saved: /Users/kayladerman/github/mids-w210-capstone-browning-derman-solomon/AquaMaps Data/Raw/Litopenaeus_occidentalis.csv\n",
      "Processed and saved: /Users/kayladerman/github/mids-w210-capstone-browning-derman-solomon/AquaMaps Data/Raw/Dormitator_latifrons.csv\n",
      "Processed and saved: /Users/kayladerman/github/mids-w210-capstone-browning-derman-solomon/AquaMaps Data/Raw/Urotrygon_chilensis.csv\n",
      "Processed and saved: /Users/kayladerman/github/mids-w210-capstone-browning-derman-solomon/AquaMaps Data/Raw/Striostrea_prismatica.csv\n",
      "Processed and saved: /Users/kayladerman/github/mids-w210-capstone-browning-derman-solomon/AquaMaps Data/Raw/Alopias_pelagicus.csv\n",
      "Processed and saved: /Users/kayladerman/github/mids-w210-capstone-browning-derman-solomon/AquaMaps Data/Raw/Litopenaeus_vannamei.csv\n",
      "Processed and saved: /Users/kayladerman/github/mids-w210-capstone-browning-derman-solomon/AquaMaps Data/Raw/Larimus_argenteus.csv\n",
      "Processed and saved: /Users/kayladerman/github/mids-w210-capstone-browning-derman-solomon/AquaMaps Data/Raw/Hemanthias_peruanus.csv\n"
     ]
    }
   ],
   "source": [
    "# Specify the folder containing the CSV files\n",
    "folder_path = \"/Users/kayladerman/github/mids-w210-capstone-browning-derman-solomon/AquaMaps Data/Raw\"\n",
    "\n",
    "# Process all files in the folder\n",
    "process_folder(folder_path)"
   ]
  },
  {
   "cell_type": "code",
   "execution_count": null,
   "metadata": {},
   "outputs": [],
   "source": []
  }
 ],
 "metadata": {
  "kernelspec": {
   "display_name": "base",
   "language": "python",
   "name": "python3"
  },
  "language_info": {
   "codemirror_mode": {
    "name": "ipython",
    "version": 3
   },
   "file_extension": ".py",
   "mimetype": "text/x-python",
   "name": "python",
   "nbconvert_exporter": "python",
   "pygments_lexer": "ipython3",
   "version": "3.11.4"
  }
 },
 "nbformat": 4,
 "nbformat_minor": 2
}
